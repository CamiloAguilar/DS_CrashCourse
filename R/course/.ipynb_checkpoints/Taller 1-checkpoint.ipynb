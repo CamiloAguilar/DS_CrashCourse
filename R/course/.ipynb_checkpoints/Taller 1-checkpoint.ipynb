{
 "cells": [
  {
   "cell_type": "markdown",
   "metadata": {},
   "source": [
    "![EasyData logo](./img/EasyData-logo_3.png)"
   ]
  },
  {
   "cell_type": "markdown",
   "metadata": {},
   "source": [
    "# Taller 1 - Análisis de datos\n",
    "## Conceptos básicos y estructuras de control"
   ]
  },
  {
   "cell_type": "markdown",
   "metadata": {},
   "source": [
    "#### Problema 1\n",
    "Construir un vector que tenga 100 repeticiones de los números `-1`, `0` y `1`, en ese orden exacto.\n",
    "\n",
    "__Nota__: usar la función `rep()`."
   ]
  },
  {
   "cell_type": "code",
   "execution_count": null,
   "metadata": {},
   "outputs": [],
   "source": [
    "# Escribir la solución aquí\n"
   ]
  },
  {
   "cell_type": "markdown",
   "metadata": {},
   "source": [
    "#### Problema 2\n",
    "Construir un vector que rodee al valor `1` de dos vectores, cada una con 10 ceros. \n",
    "\n",
    "*Respuesta*: `000000000010000000000`"
   ]
  },
  {
   "cell_type": "code",
   "execution_count": 3,
   "metadata": {},
   "outputs": [],
   "source": [
    "# Escribir respuesta aquí\n"
   ]
  },
  {
   "cell_type": "markdown",
   "metadata": {},
   "source": [
    "#### Problema 3\n",
    "Calcular el promedio del siguiente vector:"
   ]
  },
  {
   "cell_type": "code",
   "execution_count": 5,
   "metadata": {},
   "outputs": [],
   "source": [
    "li <- c(3, 18, 17, 44, 14, 12, 29, 19, 4, 6, 17, 7, 14, 6, 8, 17, 17, 21, 65,\n",
    "      19, 10, 31, 92, 17, 5, 15, 3, 14, 20, 12, 29, 57, 15, 2, 17, 1, 6, 17, 2,\n",
    "      71, 12, 11, 62, 14, 9, 20, 43, 19, 4, 15)"
   ]
  },
  {
   "cell_type": "markdown",
   "metadata": {},
   "source": [
    "__Nota__: Usar la función`sum(li)` para obtener la suma de los elementos de la lista, y la función `length(li)` para obtener cuantos elementos tiene."
   ]
  },
  {
   "cell_type": "code",
   "execution_count": 6,
   "metadata": {},
   "outputs": [],
   "source": [
    "# Escribir respuesta aquí\n"
   ]
  },
  {
   "cell_type": "markdown",
   "metadata": {},
   "source": [
    "#### Problema 4\n",
    "\n",
    "Calcular la mediana del vector del tercer ejercicio, i.e. el vector `li`. Recordar que para calcular la mediana hay que organizar los datos de menor a mayor y después utilizar la ecuación:\n",
    "\n",
    "$\\tilde{x}=\n",
    " \\begin{cases}\n",
    " x_{\\frac{n+1}{2}}\\quad, & \\textrm{si n es impar}\\\\\n",
    " \\frac{1}{2}\\left(x_{\\frac{n}{2}}+x_{\\frac{n}{2}+1}\\right)\\quad, & \\textrm{si\n",
    " n es par}\n",
    " \\end{cases}\n",
    "$\n",
    "\n",
    "donde *n* es el número de elementos del vector."
   ]
  },
  {
   "cell_type": "markdown",
   "metadata": {},
   "source": [
    "#### Problema 5\n",
    "¿Cuántas veces se repite la palabra `banano` en la siguiente cadena?:"
   ]
  },
  {
   "cell_type": "code",
   "execution_count": 8,
   "metadata": {},
   "outputs": [],
   "source": [
    "muchas_frutas = 'banAnobanAnobananobanaNobananobananobanaNobaNanobanano\n",
    "bananobananobaNanobananobananobaNanobAnanobananobananobanaNobananobanAno\n",
    "bananobananobanaNobananobananobananobananobananobananobananobananobAnAno\n",
    "bAnanobananobananobananobananobananobanANobananobananobanaNobananobanano\n",
    "bananobanaNobAnAnobananobananobananobananobananobAnAnobananobananobanano\n",
    "baNanobananobananobaNaNobananobANanobananobananobananobAnanobananobanano\n",
    "bananobananobAnanobananobaNAnobananobananobananobaNanobanaNobANanobanano\n",
    "baNanobananobananobAnanobananobananobananobaNAnobananobanANobananobAnano\n",
    "bANanobanAnobananobaNanobananobananobananobananobananobananobAnanobanano\n",
    "bananobanAnobananobananobanAnobananobananobananobanAnobananobananobaNano\n",
    "bAnanobananobAnanobaNanobananobanaNobananobananobanANobananobananobANAno\n",
    "bananobananobaNAnobanaNobAnanobanAnobananobananobanAnobaNanobananobanaNo\n",
    "banaNobANAnobananobananobanAnobananobananobanANobananobanAnobananobanano\n",
    "banaNobananobAnanobananobAnanobananobanANobananobananobanAnobanaNobanano\n",
    "bananobAnanobananobaNanobananobanANobananobananobananobaNAnobananobanAno\n",
    "bananobananobananobaNanobananobananobanAnobananobananobANanobananobanano\n",
    "bananobananobaNanobananobananobananobAnanobananobananobananobananobanano\n",
    "bananobanANobananobanaNobAnanobananobaNanobaNAnobananobananobananobanano\n",
    "bananobananobananobananobananobAnanobanaNobananobananobaNAnobananobanANo\n",
    "bananobanaNobananobananobananobananobananobaNanobananobanaNobanAnobanAno\n",
    "bananobanAno'"
   ]
  },
  {
   "cell_type": "markdown",
   "metadata": {},
   "source": [
    "*Respuesta*: 150 "
   ]
  },
  {
   "cell_type": "code",
   "execution_count": null,
   "metadata": {},
   "outputs": [],
   "source": [
    "# Escribir respuesta aquí\n"
   ]
  },
  {
   "cell_type": "markdown",
   "metadata": {},
   "source": [
    "#### Problema 6\n",
    "Definir una función `imprimir_doble` que tome un argumento `x` y lo imprima dos veces, con un espacio entre una palabra y la siguiente. Por ejemplo, al evaluarla debe retornar:\n",
    "\n",
    "```r\n",
    "imprimir_doble(5)\n",
    "5 5\n",
    "```\n",
    "     \n",
    "```r\n",
    "imprimir_doble('hola')\n",
    "hola hola\n",
    "```\n",
    "     \n",
    "```r\n",
    "imprimir_doble(c(3,9,4))\n",
    "[1] 3,9,4 \n",
    "[2] 3,9,4\n",
    "```"
   ]
  },
  {
   "cell_type": "code",
   "execution_count": 9,
   "metadata": {},
   "outputs": [],
   "source": [
    "# Escribir respuesta aquí\n"
   ]
  },
  {
   "cell_type": "markdown",
   "metadata": {},
   "source": [
    "#### Problema 7\n",
    "\n",
    "Definir una función que se llame `digitos` que tome un numero x y retorne los dígitos de que se compone, como cadenas. Por ejemplo, digitos debe retornar:\n",
    "\n",
    "```{r}\n",
    "digitos(1234)\n",
    "[1] '1', '2', '3', '4']\n",
    "```\n",
    "\n",
    "```{r}\n",
    "digitos(99861)\n",
    "[2] '9', '9', '8', '6', '1'\n",
    "```\n",
    "\n",
    "__Nota__: Utilizar los comandos de conversión entre tipos de datos, vistos al final de la sección anterior"
   ]
  },
  {
   "cell_type": "code",
   "execution_count": 10,
   "metadata": {},
   "outputs": [],
   "source": [
    "# Escribir respuesta aquí\n"
   ]
  },
  {
   "cell_type": "markdown",
   "metadata": {},
   "source": [
    "#### Problema 8\n",
    "Definir una función `es_divisible_entre_siete(x)` que imprima si un número es o no es divisible entre 7. La función debe *imprimir* resultados como los siguientes:\n",
    "\n",
    "```{r}\n",
    "es_divisible_entre_siete(12)\n",
    "'12 no es divisible entre 7'\n",
    "```\n",
    "\n",
    "```{r}\n",
    "es_divisible_entre_siete(14)\n",
    "'14 es divisible entre 7'\n",
    "```\n",
    "\n",
    "```{r}\n",
    "es_divisible_entre_siete(32)\n",
    "'32 no es divisible entre 7'\n",
    "```\n",
    "\n",
    "```{r}\n",
    "es_divisible_entre_siete(21)\n",
    "'21 es divisible entre 7'\n",
    "```"
   ]
  },
  {
   "cell_type": "markdown",
   "metadata": {},
   "source": [
    "**Nota**:\n",
    "\n",
    "Utilizar el operador módulo (`%%`) para decidir si un número es múltiplo de otro. Este operador retorna el resto de la división entre dos números. Por tanto, si un número divide exactamente a otro, retorna `0`, sino retorna cualquier otro número. Veamos algunos ejemplos:\n",
    "\n",
    "```r\n",
    "12%%4\n",
    "0\n",
    "```\n",
    "\n",
    "```r\n",
    "12%%6\n",
    "0\n",
    "```\n",
    "\n",
    "```r\n",
    "12%%5\n",
    "2\n",
    "```\n",
    "\n",
    "```r\n",
    "25%%5\n",
    "0\n",
    "```\n",
    "\n",
    "```r\n",
    "25%%6\n",
    "1\n",
    "```\n"
   ]
  },
  {
   "cell_type": "code",
   "execution_count": 13,
   "metadata": {},
   "outputs": [],
   "source": [
    "# Escribir respuesta aquí\n"
   ]
  },
  {
   "cell_type": "markdown",
   "metadata": {},
   "source": [
    "#### Problema 9\n",
    "\n",
    "Generalizar la función anterior como una nueva función llamada es_divisible_entre_n(x, n) que tome dos números enteros e imprima si el primero es divisible entre el segundo, así: (Tomado de Aprenda a pensar como un programador con Python)\n",
    "es_divisible_entre_n(20, 4)\n",
    "\n",
    "```{r}\n",
    "es_divisible_entre_n(20, 4)\n",
    "20 es divisible entre 4\n",
    "```\n",
    "\n",
    "```{r}\n",
    "es_divisible_entre_n(36, 5)\n",
    "'36 no es divisible entre 5'\n",
    "```"
   ]
  },
  {
   "cell_type": "code",
   "execution_count": null,
   "metadata": {},
   "outputs": [],
   "source": [
    "# Escribir respuesta aquí\n"
   ]
  },
  {
   "cell_type": "markdown",
   "metadata": {},
   "source": [
    "#### Problema 10\n",
    "\n",
    "Definir una función es_primo que tome un número x y verifique si es divisible entre todos los números menores a x. Si lo es, entonces debe retornar False y si no True. Por ejemplo:\n",
    "\n",
    "```{r}\n",
    "es_primo(10)\n",
    "False\n",
    "es_primo(17)\n",
    "True\n",
    "es_primo(15)\n",
    "False\n",
    "es_primo(23)\n",
    "True\n",
    "```\n",
    "\n",
    "**Nota**: Modificar la función es_divisible_entre_n para que en lugar de imprimir oraciones, retorne True o False, y después utilizarla como parte del enunciado de la función es_primo."
   ]
  },
  {
   "cell_type": "code",
   "execution_count": null,
   "metadata": {},
   "outputs": [],
   "source": [
    "# Escribir respuesta aquí\n"
   ]
  },
  {
   "cell_type": "markdown",
   "metadata": {},
   "source": [
    "#### Problema 11\n",
    "\n",
    "Definir una función `desv_est` que calcule la desviación estándar de una lista, usando la fórmula:\n",
    "\n",
    "$$s=\\sqrt{\\frac{\\sum_{i=1}^{n}\\left(x_{i}-\\bar{x}\\right)^{2}}{n-1}}$$\n",
    "\n",
    "donde $\\bar{x}$ es el promedio y $n$ es el número total de datos.\n",
    "\n",
    "Por ejemplo, la desviación estándar del siguiente vector:"
   ]
  },
  {
   "cell_type": "code",
   "execution_count": 17,
   "metadata": {},
   "outputs": [],
   "source": [
    "vec = c(48.38,  27.6 ,  32.46,  51.94,  47.43,  48.61,  34.38,  48.98,\n",
    "      48.86,  41.45,  56.55,  25.46,  27.03,  36.72,  48.03,  36.86,\n",
    "      42.58,  44.44,  56.12,  43.86,  44.42,  42.92,  41.43,  22.81,\n",
    "      36.55,  50.89,  29.93,  47.61,  63.91,  53.98,  42.64,  27.18,\n",
    "      29.93,  31.51)"
   ]
  },
  {
   "cell_type": "code",
   "execution_count": 18,
   "metadata": {},
   "outputs": [],
   "source": [
    "# Escribir respuesta aquí\n"
   ]
  },
  {
   "cell_type": "markdown",
   "metadata": {},
   "source": [
    "#### Problema 12\n",
    "\n",
    "Definir una función cuenta_atras(n) que tome un número entero $n$ e imprima todos los números desde n hasta 1 usando un ciclo `while`. Además, después de imprimir 1, debe imprimir Este es el fin!."
   ]
  },
  {
   "cell_type": "code",
   "execution_count": 19,
   "metadata": {},
   "outputs": [],
   "source": [
    "# Escribir la solución aquí\n"
   ]
  },
  {
   "cell_type": "markdown",
   "metadata": {},
   "source": [
    "#### Problema 13\n",
    "Usar la función digitos, definida en el Problema 7, para encontrar el primer número de 4 cifras que sea divisible entre 8 y cuya primera y última cifras sean iguales.\n",
    "\n",
    "Respuesta:\n",
    "2032\n",
    "\n",
    "__Nota__:\n",
    "Definir dos contadores: uno que empiece en 1000 para ir revisando todos los números de 4 cifras, y otro para detener el ciclo while tan pronto se encuentre el primer número que cumpla la condición deseada."
   ]
  },
  {
   "cell_type": "code",
   "execution_count": null,
   "metadata": {},
   "outputs": [],
   "source": [
    "# Escribir la solución aquí\n"
   ]
  }
 ],
 "metadata": {
  "kernelspec": {
   "display_name": "R",
   "language": "R",
   "name": "ir"
  },
  "language_info": {
   "codemirror_mode": "r",
   "file_extension": ".r",
   "mimetype": "text/x-r-source",
   "name": "R",
   "pygments_lexer": "r",
   "version": "3.4.3"
  }
 },
 "nbformat": 4,
 "nbformat_minor": 2
}
